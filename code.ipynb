{
  "nbformat": 4,
  "nbformat_minor": 0,
  "metadata": {
    "colab": {
      "name": "clockify.ipynb",
      "provenance": [],
      "collapsed_sections": []
    },
    "kernelspec": {
      "name": "python3",
      "display_name": "Python 3"
    },
    "language_info": {
      "name": "python"
    }
  },
  "cells": [
    {
      "cell_type": "code",
      "source": [
        "! pip install clockify  # clockify-api-client has some problems with getting all time entries\n",
        "! pip install clockify-api-client  # clockify has some problems with projects"
      ],
      "metadata": {
        "colab": {
          "base_uri": "https://localhost:8080/"
        },
        "id": "TDeYjoVCEwyc",
        "outputId": "165b28e0-a8f7-4039-a28d-dffe8bcace11"
      },
      "execution_count": 1,
      "outputs": []
    },
    {
      "cell_type": "code",
      "source": [
        "from datetime import datetime\n",
        "from dateutil import parser\n",
        "from clockify import factories\n",
        "from clockify_api_client.client import ClockifyAPIClient\n",
        "import pandas as pd\n",
        "import numpy as np\n",
        "import re\n",
        "import seaborn as sns\n",
        "import matplotlib.pyplot as plt\n",
        "import logging"
      ],
      "metadata": {
        "id": "vhw7dQrAFT5N"
      },
      "execution_count": 2,
      "outputs": []
    },
    {
      "cell_type": "code",
      "source": [
        "### Parameters ###\n",
        "\n",
        "# start and the end of the sprint (Unix epoch time to avoid timezone problems)\n",
        "start_of_sprint = 1643056200  \n",
        "end_of_sprint = 1643315400\n",
        "\n",
        "# Excel file including tasks \n",
        "file_path = 'Tasks.xlsx'\n",
        "sheet_name = 'Sprint1'\n",
        "\n",
        "# clockify api key\n",
        "api_key = '<API KEY>'  # Find it in https://clockify.me/user/settings\n",
        "workspace_name = ''  # name of the workspace in clockify (leave it blank if you have just one workspace) \n",
        "user_name = '' # Leave it blank if you are the only user"
      ],
      "metadata": {
        "id": "5dyfGvDvTUWW"
      },
      "execution_count": 3,
      "outputs": []
    },
    {
      "cell_type": "code",
      "source": [
        "# Helper functions\n",
        "def match(done_project, done_task, target_task):\n",
        "  target_task = str(target_task).strip().lower()\n",
        "  if target_task.startswith('project:'):\n",
        "    target_project = target_task[8:].strip()\n",
        "    done_project = str(done_project).lower()\n",
        "    return done_project == target_project\n",
        "  elif target_task.startswith('task:'):\n",
        "    target_desc = target_task[5:].strip()\n",
        "    done_task = str(done_task).lower()\n",
        "    return target_desc in done_task\n",
        "  else:\n",
        "    raise 'Unknown task description!'\n",
        "\n",
        "def process_entry(done, task):\n",
        "  elapsed = 0\n",
        "  if match(projects[done['projectId']], done['description'], task['Description']):\n",
        "    duration = done['timeInterval']['duration']\n",
        "    r = re.match(r\"PT(\\d*H)?(\\d*M)?(\\d*S)?\", duration)\n",
        "    if r.group(1):\n",
        "      elapsed += int(r.group(1)[:-1])\n",
        "    if r.group(2):\n",
        "      elapsed += int(r.group(2)[:-1])/60\n",
        "    if r.group(3):\n",
        "      elapsed += int(r.group(3)[:-1])/3600\n",
        "    \n",
        "  return elapsed"
      ],
      "metadata": {
        "id": "WbeTTSoHOiOK"
      },
      "execution_count": 4,
      "outputs": []
    },
    {
      "cell_type": "code",
      "source": [
        "# Obtain user_id\n",
        "for workspace in factories.Workspace(api_key=api_key).get_all_workspaces():\n",
        "  if (workspace['name'] == workspace_name) or (workspace_name == ''):\n",
        "    workspace_id = workspace['id']\n",
        "\n",
        "# obtain workspace_id\n",
        "for user in factories.User(api_key=api_key).get_all_workspace_users(workspace_id=workspace_id):\n",
        "  if (user['name'] == user_name) or (user_name == ''):\n",
        "    user_id = user['id']\n",
        "\n",
        "# Obtain project_ids\n",
        "client = ClockifyAPIClient().build(api_key, 'api.clockify.me/v1')\n",
        "projects = dict()\n",
        "for project in client.projects.get_projects(workspace_id):\n",
        "  if not project['archived']:\n",
        "    projects[project['id']] = project['name']\n",
        "\n",
        "# Read tasks\n",
        "tasks = pd.read_excel(file_path, sheet_name=sheet_name)"
      ],
      "metadata": {
        "colab": {
          "base_uri": "https://localhost:8080/"
        },
        "id": "sV_6CwgUJxMc",
        "outputId": "e6fbc829-90e6-4d86-d486-a4b643c9c53b"
      },
      "execution_count": 5,
      "outputs": [
        {
          "output_type": "stream",
          "name": "stderr",
          "text": [
            "INFO:root:Start function: get_all_workspaces\n",
            "INFO:root:Start function: get_all_workspace_users\n"
          ]
        }
      ]
    },
    {
      "cell_type": "code",
      "source": [
        "# Process time entries\n",
        "\n",
        "results = [[0.0, float(d['Estimated Hours']), d['Description']] for i,d in tasks.iterrows()]  # (spend_hours, estimated_hours)\n",
        "\n",
        "processed_ids = [] # get_all_time_entry_user returns each entry multiple times, so we need to check them. \n",
        "for entry in factories.TimeEntry(api_key=api_key).get_all_time_entry_user(workspace_id=workspace_id, user_id=user_id):\n",
        "  date = parser.parse(entry['timeInterval']['start']).timestamp()\n",
        "  if (start_of_sprint <= date < end_of_sprint) and (entry['id'] not in processed_ids):\n",
        "    entry_matched = False\n",
        "    processed_ids.append(entry['id'])\n",
        "    for i, t in tasks.iterrows():\n",
        "      elapsed_time = process_entry(entry, t)\n",
        "      results[i][0] += elapsed_time\n",
        "      if elapsed_time > 0:\n",
        "        if entry_matched:\n",
        "          logging.warning(f\"\\'{entry['description']}\\' matched multiple tasks!\")\n",
        "        else:\n",
        "          entry_matched = True"
      ],
      "metadata": {
        "colab": {
          "base_uri": "https://localhost:8080/"
        },
        "id": "8p8TlYVKIOkT",
        "outputId": "4a2f4ae1-6821-44c9-da3e-fb2c9f923441"
      },
      "execution_count": 6,
      "outputs": [
        {
          "output_type": "stream",
          "name": "stderr",
          "text": [
            "INFO:root:Start function: get_all_time_entry_user\n"
          ]
        }
      ]
    },
    {
      "cell_type": "code",
      "source": [
        "# Plot results\n",
        "df = []\n",
        "for r in results:\n",
        "  df.append(['Spent', r[0], r[2]])\n",
        "  df.append(['Estimated', r[1], r[2]])\n",
        "df = pd.DataFrame(df, columns=['Type', 'Hours', 'Task']).sort_values(['Type', 'Hours'], ascending=[True, False])\n",
        "g = sns.barplot(x=\"Hours\", y=\"Task\",\n",
        "            hue=\"Type\", data=df,\n",
        "            palette='Blues')\n",
        "g.legend_.set_title(None)"
      ],
      "metadata": {
        "colab": {
          "base_uri": "https://localhost:8080/",
          "height": 278
        },
        "id": "K_I7LcIbVlIE",
        "outputId": "f89eef02-314b-429c-975b-42074f0ff127"
      },
      "execution_count": 7,
      "outputs": [
        {
          "output_type": "display_data",
          "data": {
            "image/png": "[encoded data removed]",
            "text/plain": [
              "<Figure size 432x288 with 1 Axes>"
            ]
          },
          "metadata": {
            "needs_background": "light"
          }
        }
      ]
    },
    {
      "cell_type": "code",
      "source": [
        ""
      ],
      "metadata": {
        "id": "9NnKdR4j0SAp"
      },
      "execution_count": null,
      "outputs": []
    }
  ]
}
